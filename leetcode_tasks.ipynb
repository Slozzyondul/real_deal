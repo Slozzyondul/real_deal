{
 "cells": [
  {
   "cell_type": "code",
   "execution_count": 8,
   "metadata": {},
   "outputs": [
    {
     "name": "stdout",
     "output_type": "stream",
     "text": [
      "[0, 1]\n",
      "[1, 2]\n"
     ]
    }
   ],
   "source": [
    "#given an array of integers (nums) and an integer (target), return indices of the two numbers such that they add up to (target).\n",
    "#brute force\n",
    "from typing import List\n",
    "\n",
    "class Solution:\n",
    "    def twoSum(self, nums: List[int], target: int) -> List[int]:\n",
    "        for i in range(len(nums)):\n",
    "            for j in range(i + 1, len(nums)):\n",
    "                if nums[j] == target - nums[i]:\n",
    "                    return [i, j]\n",
    "\n",
    "#example\n",
    "solution = Solution()\n",
    "result = solution.twoSum([2, 7, 11, 15], 9)\n",
    "print(result)    \n",
    "\n",
    "#hash table (improves runtime complexity but takes more storage)\n",
    "class Solution:\n",
    "    def twoSum(Self, nums: List[int], target: int) -> List[int]:\n",
    "        hashmap = {}\n",
    "        for i in range(len(nums)):\n",
    "            hashmap[nums[i]] = i\n",
    "        for i in range(len(nums)):\n",
    "            complement = target - nums[i]\n",
    "            if complement in hashmap and hashmap[complement] != i:\n",
    "                return [i, hashmap[complement]]   \n",
    "\n",
    "#example2\n",
    "soln = Solution()\n",
    "outcome = soln.twoSum([3,2,4], 6)\n",
    "print(outcome)                        \n"
   ]
  },
  {
   "cell_type": "code",
   "execution_count": 5,
   "metadata": {},
   "outputs": [
    {
     "name": "stdout",
     "output_type": "stream",
     "text": [
      "fl\n"
     ]
    }
   ],
   "source": [
    "#function to find the longest common prefix string amongst an array of strings\n",
    "from typing import List\n",
    "class Solution:\n",
    "    def longestCommonPrefix(self, strs: List[str]) -> str:\n",
    "        if not strs:\n",
    "            return \"\"\n",
    "        \n",
    "        #sort the strings to easily find the common prefix\n",
    "        strs.sort()\n",
    "\n",
    "        #compare the first and last string in the sorted array\n",
    "        first_str = strs[0]\n",
    "        last_str = strs[-1]\n",
    "\n",
    "        common_prefix = []\n",
    "\n",
    "        #compare characters at the same position\n",
    "        for i in range(len(first_str)):\n",
    "            if i < len(last_str) and first_str[i] == last_str[i]:\n",
    "                common_prefix.append(first_str[i])\n",
    "            else:\n",
    "                break\n",
    "        return ''.join(common_prefix)\n",
    "\n",
    "#example usage\n",
    "strings = [\"flower\", \"flow\", \"flight\"]\n",
    "soln2 = Solution()\n",
    "result = soln2.longestCommonPrefix(strings)\n",
    "print(result)            \n",
    "    "
   ]
  },
  {
   "cell_type": "code",
   "execution_count": 1,
   "metadata": {},
   "outputs": [
    {
     "name": "stdout",
     "output_type": "stream",
     "text": [
      "Is \"121\" a palindrome? True\n",
      "Is \"-121\" a palindrome? False\n"
     ]
    }
   ],
   "source": [
    "#palindrome function integers\n",
    "class Solution:\n",
    "    def isPalindrome(self, x: int) -> bool:\n",
    "        #convert integer to string\n",
    "        str_x = str(x)\n",
    " \n",
    "        #check if the string is equal to its reverse\n",
    "        return str_x == str_x[::-1] if x >= 0 else False\n",
    "    \n",
    "#example\n",
    "word1 = 121\n",
    "word2 = -121\n",
    "soln3 = Solution()\n",
    "result = soln3.isPalindrome(word1)\n",
    "print(f'Is \"{word1}\" a palindrome? {result}') \n",
    "\n",
    "result2 = soln3.isPalindrome(word2)\n",
    "print(f'Is \"{word2}\" a palindrome? {result2}')        \n"
   ]
  },
  {
   "cell_type": "code",
   "execution_count": 5,
   "metadata": {},
   "outputs": [
    {
     "name": "stdout",
     "output_type": "stream",
     "text": [
      "19\n"
     ]
    }
   ],
   "source": [
    "#converting roman numerals to integers\n",
    "class Solution:\n",
    "    def romanToInt(self, s: str) -> int:\n",
    "        #Define a dictionary to map Roman numerals to integers\n",
    "        roman_to_int = {'I': 1, 'V':5, 'X':10, 'L':50, 'C':100, 'D':500, 'M':1000,}\n",
    "\n",
    "        result = 0\n",
    "        prev_value = 0\n",
    "\n",
    "        #iterate through the roman numeral string from right to left\n",
    "        for char in reversed(s):\n",
    "            value = roman_to_int[char]\n",
    "\n",
    "            #if the current value is less than the previous value, sabtract it\n",
    "            if value < prev_value:\n",
    "                result -= value\n",
    "            else:\n",
    "                result += value\n",
    "\n",
    "            #update the previous value for the next iteration\n",
    "            prev_value = value\n",
    "\n",
    "        return result\n",
    "\n",
    "#example\n",
    "solution = Solution()\n",
    "result = solution.romanToInt(\"IXX\") \n",
    "print(result)               \n",
    "                        \n",
    "        \n"
   ]
  },
  {
   "cell_type": "code",
   "execution_count": 9,
   "metadata": {},
   "outputs": [
    {
     "name": "stdout",
     "output_type": "stream",
     "text": [
      "True\n"
     ]
    }
   ],
   "source": [
    "#Valid Parentheses, stack data structure \n",
    "class Solution:\n",
    "    def isValid(self, s: str) -> bool:\n",
    "        stack = []\n",
    "        bracket_mapping = {')':'(', '}':'{', ']':'['}\n",
    "\n",
    "        for char in s:\n",
    "            if char in bracket_mapping:\n",
    "                top_element = stack.pop() if stack else '#'\n",
    "                if bracket_mapping[char] != top_element:\n",
    "                    return False\n",
    "            else:\n",
    "                stack.append(char)\n",
    "        return not stack\n",
    "#example\n",
    "solution = Solution()\n",
    "result = solution.isValid(\"()[]{}\")\n",
    "print(result)                \n"
   ]
  },
  {
   "cell_type": "code",
   "execution_count": 3,
   "metadata": {},
   "outputs": [
    {
     "name": "stdout",
     "output_type": "stream",
     "text": [
      "1 1 2 3 4 4 "
     ]
    }
   ],
   "source": [
    "#merging two sorted linked lists intp one soreted list\n",
    "class ListNode:\n",
    "    def __init__(self, val=0, next=None):\n",
    "        self.val = val\n",
    "        self.next = next\n",
    "\n",
    "class Solution:\n",
    "    def mergeTwoLists(self, list1: ListNode, list2: ListNode) -> ListNode:\n",
    "        #create a dummy node to start the merged list\n",
    "        dummy = ListNode()\n",
    "        current = dummy\n",
    "\n",
    "        #iterate through both lists until one of them is exhausted\n",
    "        while list1 and list2:\n",
    "            if list1.val < list2.val:\n",
    "                current.next = list1\n",
    "                list1 = list1.next\n",
    "            else:\n",
    "                current.next = list2\n",
    "                list2 = list2.next\n",
    "\n",
    "            current = current.next     \n",
    "        #if one of the list is not empty, append the remaining nodes\n",
    "        if list1:\n",
    "            current.next = list1\n",
    "\n",
    "        elif list2:\n",
    "            current.next = list2\n",
    "\n",
    "        #the merged list starts from the next of the dummy node\n",
    "        return dummy.next\n",
    "    \n",
    "#example    \n",
    "# Create sorted linked lists\n",
    "list1 = ListNode(1, ListNode(2, ListNode(4)))\n",
    "list2 = ListNode(1, ListNode(3, ListNode(4)))\n",
    "\n",
    "# Merge the two lists\n",
    "solution = Solution()\n",
    "result = solution.mergeTwoLists(list1, list2)\n",
    "\n",
    "# Print the merged list\n",
    "while result:\n",
    "    print(result.val, end=\" \")\n",
    "    result = result.next\n",
    "            \n",
    "\n",
    "                       \n",
    "\n"
   ]
  },
  {
   "cell_type": "code",
   "execution_count": 2,
   "metadata": {},
   "outputs": [],
   "source": [
    "from typing import List\n",
    "\n",
    "#removing duplicates froma sorted array\n",
    "class Solution:\n",
    "    def removeDuplicates(self, nums: List[int]) -> int:\n",
    "        if not nums:\n",
    "            return 0\n",
    "        \n",
    "        #initialize pointers\n",
    "        unique_ptr = 0\n",
    "\n",
    "        #iterate through the array\n",
    "        for i in range(1, len(nums)):\n",
    "            #compare the current element with the previous unique element\n",
    "            if nums[i] != nums[unique_ptr]:\n",
    "                #move the unique pointer forward\n",
    "                unique_ptr += 1\n",
    "                #update the unioque element\n",
    "                nums[unique_ptr] = nums[i]\n",
    "        #The lenght of the array up to the unique pointer +1 is the number of unique elements\n",
    "        return unique_ptr + 1                    "
   ]
  },
  {
   "cell_type": "code",
   "execution_count": 4,
   "metadata": {},
   "outputs": [],
   "source": [
    "#Remove Element\n",
    "class Solution:\n",
    "    def removeElement(self, nums: List[int], val: int) -> int:\n",
    "        if not nums:\n",
    "            return 0\n",
    "        \n",
    "        #initialize pointers\n",
    "        non_val_ptr = 0\n",
    "\n",
    "        #iterate through the array\n",
    "        for i in range(len(nums)):\n",
    "            #check if the current element is not equal to val\n",
    "            if nums[i] != val:\n",
    "                #move the non-val pointer forward and update the element\n",
    "                nums[non_val_ptr] = nums[i]\n",
    "                non_val_ptr += 1\n",
    "        #The lenght up to the non-val pointer is the number of elements not equal to val\n",
    "        return non_val_ptr                     "
   ]
  },
  {
   "cell_type": "code",
   "execution_count": 6,
   "metadata": {},
   "outputs": [],
   "source": [
    "#Find the index of the first occurrence in a string\n",
    "class Solution:\n",
    "    def strStr(self, haystack: str, needle: str) -> int:\n",
    "        if not needle:\n",
    "            return 0\n",
    "        needle_length = len(needle)\n",
    "        haystack_length = len(haystack)\n",
    "\n",
    "        # Iterate through the haystack with a sliding window\n",
    "        for i in range(haystack_length - needle_length + 1):\n",
    "            if haystack[i:i + needle_length] == needle:\n",
    "                return i\n",
    "        return -1  # Return -1 if no match is found\n",
    "\n",
    "\n",
    "            "
   ]
  },
  {
   "cell_type": "code",
   "execution_count": 4,
   "metadata": {},
   "outputs": [],
   "source": [
    "#search insert position\n",
    "class Solution:\n",
    "    def searchInsert(self, nums: List[int], target: int) -> int:\n",
    "        low, high = 0, len(nums) - 1\n",
    "\n",
    "        while low <= high:\n",
    "            mid = (low + high) // 2\n",
    "\n",
    "            if nums[mid] == target:\n",
    "                return mid\n",
    "            elif nums[mid] < target:\n",
    "                low = mid + 1\n",
    "            else:\n",
    "                high = mid - 1\n",
    "\n",
    "        return low\n"
   ]
  },
  {
   "cell_type": "code",
   "execution_count": 6,
   "metadata": {},
   "outputs": [],
   "source": [
    "#length of last word\n",
    "\n",
    "class Solution:\n",
    "    def lengthOfLastWord(self, s: str) -> int:\n",
    "        words = s.split()\n",
    "        if not words:\n",
    "            return 0\n",
    "        else:\n",
    "            return len(words[-1])"
   ]
  },
  {
   "cell_type": "code",
   "execution_count": 7,
   "metadata": {},
   "outputs": [],
   "source": [
    "#plus one\n",
    "class Solution:\n",
    "    def plusOne(self, digits: List[int]) -> List[int]:\n",
    "        n = len(digits)\n",
    "        #iterate from the least significant digit to the most significant\n",
    "        for i in range(n -1, -1, -1):\n",
    "            #increment the current digit\n",
    "            digits[i] += 1\n",
    "            #check if there is a carry\n",
    "            if digits[i] < 10:\n",
    "                break\n",
    "            else:\n",
    "                #set the current digit to 0 and continue the loop\n",
    "                digits[i] = 0\n",
    "        #check if there is carry after thte loop\n",
    "        if digits[0] == 0:\n",
    "            #if there is a carry, insert a new digit at the beginning\n",
    "            digits.insert(0,1)\n",
    "        return digits                    \n",
    "\n",
    "\n",
    "        "
   ]
  }
 ],
 "metadata": {
  "kernelspec": {
   "display_name": "Python 3",
   "language": "python",
   "name": "python3"
  },
  "language_info": {
   "codemirror_mode": {
    "name": "ipython",
    "version": 3
   },
   "file_extension": ".py",
   "mimetype": "text/x-python",
   "name": "python",
   "nbconvert_exporter": "python",
   "pygments_lexer": "ipython3",
   "version": "3.11.7"
  }
 },
 "nbformat": 4,
 "nbformat_minor": 2
}
