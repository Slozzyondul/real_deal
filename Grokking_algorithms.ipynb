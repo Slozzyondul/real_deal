{
 "cells": [
  {
   "cell_type": "code",
   "execution_count": 1,
   "metadata": {},
   "outputs": [],
   "source": [
    "import numpy as np\n",
    "\n",
    "# Generate a NumPy array of 128 ordered integers\n",
    "list = np.arange(1, 10)\n",
    "\n",
    "low = list[0]\n",
    "high = len(list) - 1\n",
    "mid = (low + high)/2\n",
    "guess = mid\n",
    "\n",
    "#if the guess is too low update low accordingly\n",
    "\n",
    "#if the guess is too high, update high \n",
    "\n",
    "item = int(input(\"Enter a number between 1 and 129\"))\n",
    "\n",
    "def binary_search(list, item):\n",
    "    low = 0\n",
    "    high = len(list) - 1\n",
    "\n",
    "    while low <= high:\n",
    "        mid = (low + high)\n",
    "        guess = list[mid]\n",
    "        if guess == item:\n",
    "            #print(\"got it\")\n",
    "            return mid\n",
    "        \n",
    "        if guess > item:\n",
    "            #print(\"Try lower abit\")\n",
    "            high = mid - 1\n",
    "        else:\n",
    "            low = mid + 1\n",
    "            #print(\"try a little higer\")\n",
    "    return None        \n",
    "\n",
    "binary_search(list, item)      "
   ]
  },
  {
   "cell_type": "code",
   "execution_count": 27,
   "metadata": {},
   "outputs": [
    {
     "data": {
      "text/plain": [
       "9"
      ]
     },
     "execution_count": 27,
     "metadata": {},
     "output_type": "execute_result"
    }
   ],
   "source": [
    "#sort an array from smallest to largest\n",
    "\n",
    "#A function to find the smallest element in an array\n",
    "\n",
    "arr = [9,2,3,4,5,6,7,8,10,0,1]\n",
    "\n",
    "def findSmallest(arr):\n",
    "    smallest = arr[0] #stores the smallest value\n",
    "    smallest_index = 0 #stores the index of the smallest value\n",
    "    for i in range(1, len(arr)):\n",
    "        if arr[i] < smallest:\n",
    "            smallest = arr[i]\n",
    "            smallest_index = i\n",
    "    return smallest_index\n",
    "\n",
    "findSmallest(arr)\n",
    "\n",
    "#This function essentially finds the index of the smallest element in the given list using a linear search. Keep in mind that if there are multiple occurrences of the smallest element, the function will return the index of the first occurrence."
   ]
  },
  {
   "cell_type": "code",
   "execution_count": 28,
   "metadata": {},
   "outputs": [
    {
     "data": {
      "text/plain": [
       "[0, 1, 2, 3, 4, 5, 6, 7, 8, 9, 10]"
      ]
     },
     "execution_count": 28,
     "metadata": {},
     "output_type": "execute_result"
    }
   ],
   "source": [
    "\n",
    "#selection sort using the prior function\n",
    "\n",
    "def selectionSort(arr): #Sorts an array\n",
    "    newArr = []\n",
    "    for i in range(len(arr)):\n",
    "        smallest = findSmallest(arr) #Finds the smallest element in the array, and adds it to the new array\n",
    "        newArr.append(arr.pop(smallest))\n",
    "    return newArr\n",
    "\n",
    "selectionSort(arr)    \n"
   ]
  },
  {
   "cell_type": "code",
   "execution_count": 42,
   "metadata": {},
   "outputs": [
    {
     "ename": "NameError",
     "evalue": "name 'main_box' is not defined",
     "output_type": "error",
     "traceback": [
      "\u001b[0;31m---------------------------------------------------------------------------\u001b[0m",
      "\u001b[0;31mNameError\u001b[0m                                 Traceback (most recent call last)",
      "Cell \u001b[0;32mIn[42], line 12\u001b[0m\n\u001b[1;32m      9\u001b[0m             \u001b[38;5;28;01melif\u001b[39;00m item\u001b[38;5;241m.\u001b[39mis_a_key():\n\u001b[1;32m     10\u001b[0m                 \u001b[38;5;28mprint\u001b[39m (\u001b[38;5;124m\"\u001b[39m\u001b[38;5;124mFound the key!\u001b[39m\u001b[38;5;124m\"\u001b[39m)    \n\u001b[0;32m---> 12\u001b[0m look_for_key(\u001b[43mmain_box\u001b[49m)\n\u001b[1;32m     14\u001b[0m \u001b[38;5;66;03m#Now, this function will search through the nested structure for a key and print a message when it finds one. If the key is not found, it will simply exit the function without printing anything.\u001b[39;00m\n\u001b[1;32m     15\u001b[0m \n\u001b[1;32m     16\u001b[0m \n\u001b[1;32m     17\u001b[0m \u001b[38;5;66;03m#Recursion to search the key in a box (function calls itself)\u001b[39;00m\n\u001b[1;32m     18\u001b[0m \u001b[38;5;28;01mdef\u001b[39;00m \u001b[38;5;21mlook_for_key\u001b[39m(box):\n",
      "\u001b[0;31mNameError\u001b[0m: name 'main_box' is not defined"
     ]
    }
   ],
   "source": [
    "#while look to search for a key in a box\n",
    "def look_for_key(main_box):\n",
    "    pile = main_box.make_a_pile_to_look_through()\n",
    "    while pile is not empty:\n",
    "        box = pile.grab_a_box()\n",
    "        for item in box:\n",
    "            if item.is_a_box():\n",
    "                pile.append(item)\n",
    "            elif item.is_a_key():\n",
    "                print (\"Found the key!\")    \n",
    "\n",
    "look_for_key(main_box)\n",
    "\n",
    "#Now, this function will search through the nested structure for a key and print a message when it finds one. If the key is not found, it will simply exit the function without printing anything.\n",
    "\n",
    "\n",
    "#Recursion to search the key in a box (function calls itself)\n",
    "def look_for_key(box):\n",
    "    for item in box:\n",
    "        if item.is_a_box():\n",
    "            look_for_key(item)\n",
    "        elif item.is_a_key():\n",
    "            print (\"found the key!\")                  \n",
    "                          "
   ]
  },
  {
   "cell_type": "code",
   "execution_count": 1,
   "metadata": {},
   "outputs": [
    {
     "name": "stdout",
     "output_type": "stream",
     "text": [
      "6\n",
      "5\n",
      "4\n",
      "3\n",
      "2\n",
      "1\n",
      "0\n"
     ]
    }
   ],
   "source": [
    "#A function that prints a countdown\n",
    "def countdown(i):\n",
    "    print(i)\n",
    "    if i <= 0: #base case\n",
    "        return\n",
    "    else: #recursive case\n",
    "        countdown(i-1)\n",
    "\n",
    "countdown(6)"
   ]
  },
  {
   "cell_type": "code",
   "execution_count": 2,
   "metadata": {},
   "outputs": [
    {
     "name": "stdout",
     "output_type": "stream",
     "text": [
      "Hello, Mr Solomon!\n",
      "How are you, Solomon?\n",
      "Getting ready to say bye...\n",
      "ok bye!\n",
      "How are you, Chiellini?\n"
     ]
    }
   ],
   "source": [
    "#call stack function\n",
    "\n",
    "name = \"Solomon\"\n",
    "\n",
    "def greet(name):\n",
    "    print (\"Hello, Mr \" + name + \"!\")\n",
    "    greet2(name)\n",
    "    print(\"Getting ready to say bye...\")\n",
    "    bye()\n",
    "\n",
    "def greet2(name):\n",
    "    print(\"How are you, \" + name + \"?\")\n",
    "\n",
    "def bye():\n",
    "    print(\"ok bye!\")\n",
    "greet(name)  \n",
    "greet2(\"Chiellini\")"
   ]
  },
  {
   "cell_type": "code",
   "execution_count": 1,
   "metadata": {},
   "outputs": [
    {
     "name": "stdout",
     "output_type": "stream",
     "text": [
      "The GCD of 640 and 400 is 80\n"
     ]
    }
   ],
   "source": [
    "# euclidean algorithm (GCD of two numbers)\n",
    "\n",
    "def euclidean_algorithm(a,b):\n",
    "    while b:\n",
    "        a, b = b, a % b\n",
    "    return a\n",
    "    \n",
    "num1 = int(input(\"Enter the dividend\"))\n",
    "num2 = int(input(\"Enter the divisor\"))\n",
    "\n",
    "gcd = euclidean_algorithm (num1, num2)\n",
    "\n",
    "print(f\"The GCD of {num1} and {num2} is {gcd}\")\n"
   ]
  },
  {
   "cell_type": "code",
   "execution_count": 1,
   "metadata": {},
   "outputs": [
    {
     "name": "stdout",
     "output_type": "stream",
     "text": [
      "8\n"
     ]
    }
   ],
   "source": [
    "#Write the code for the sum function\n",
    "def sum_function(a,b):\n",
    "    return a + b\n",
    "\n",
    "#example\n",
    "result = sum_function(3,5)\n",
    "print(result)"
   ]
  },
  {
   "cell_type": "code",
   "execution_count": 10,
   "metadata": {},
   "outputs": [
    {
     "name": "stdout",
     "output_type": "stream",
     "text": [
      "The number of items in the list is: 13\n"
     ]
    }
   ],
   "source": [
    "#write a recursive function to count the number of items in a list\n",
    "def count_itemms_recursive(my_list):\n",
    "    #base case: if the list is empty, return 0\n",
    "    if not my_list:\n",
    "        return 0\n",
    "    #Recursive case: count the item and call the function on the  rest of the list\n",
    "    else:\n",
    "        return 1 + count_itemms_recursive(my_list[1:])\n",
    "    \n",
    "# example\n",
    "my_list = [0,1,2,3,4,5,6,7,8,9,10,99,100]\n",
    "result = count_itemms_recursive(my_list)\n",
    "print(f'The number of items in the list is: {result}')\n",
    "    \n"
   ]
  },
  {
   "cell_type": "code",
   "execution_count": 11,
   "metadata": {},
   "outputs": [
    {
     "name": "stdout",
     "output_type": "stream",
     "text": [
      "The maximum number in the list is: 100\n"
     ]
    }
   ],
   "source": [
    "#find the maximum number in a list\n",
    "def find_max(my_list):\n",
    "    #check if the list is empty\n",
    "    if not my_list:\n",
    "        print(\"This list is empty.\")\n",
    "        return None\n",
    "    #initialize max_num with the first element in the list\n",
    "    max_num = my_list[0]\n",
    "\n",
    "    #iterate through the list to find the maximu number\n",
    "    for num in my_list:\n",
    "        if num > max_num:\n",
    "            max_num = num\n",
    "\n",
    "    return max_num\n",
    "\n",
    "#example\n",
    "result = find_max(my_list)\n",
    "print(f'The maximum number in the list is: {result}')\n",
    "        \n"
   ]
  },
  {
   "cell_type": "code",
   "execution_count": 17,
   "metadata": {},
   "outputs": [
    {
     "name": "stdout",
     "output_type": "stream",
     "text": [
      "The target 100 is found at index 12\n"
     ]
    }
   ],
   "source": [
    "#base case  and recursive case for binary search \n",
    "def binary_search_recursive(arr, target, low, high):\n",
    "    #base case: if the low index is greater than the high index, the target is not in the array\n",
    "    if low > high:\n",
    "        return -1\n",
    "    \n",
    "    #calulate the middle     \n",
    "    mid = (low + high) // 2\n",
    "\n",
    "    #base case: if the middle element is the target, return its index\n",
    "    if arr[mid] == target:\n",
    "        return mid\n",
    "    \n",
    "    #recursive case: if the target is less than the middle element, search the left half\n",
    "    elif arr[mid] > target:\n",
    "        return binary_search_recursive(arr, target, low, mid - 1)\n",
    "\n",
    "    #Recursive case: if the target is greater than the middle element, search the right half\n",
    "    else: \n",
    "        return binary_search_recursive(arr, target, mid +1, high)\n",
    "\n",
    "#example\n",
    "sorted_array = my_list\n",
    "target_element = 100\n",
    "result = binary_search_recursive(sorted_array, target_element, 0, len(sorted_array) - 1)\n",
    "\n",
    "if result != -1:\n",
    "    print(f'The target {target_element} is found at index {result}')\n",
    "else:\n",
    "    print(f'The target {target_element} is not found in the array')\n",
    "\n"
   ]
  },
  {
   "cell_type": "code",
   "execution_count": 11,
   "metadata": {},
   "outputs": [
    {
     "data": {
      "text/plain": [
       "[0, 1, 2, 3, 3, 4, 5, 7, 8, 9, 10, 11, 15, 17, 19]"
      ]
     },
     "execution_count": 11,
     "metadata": {},
     "output_type": "execute_result"
    }
   ],
   "source": [
    "#Quicksort\n",
    "#empty arrays and single element arrays need no sorting\n",
    "#Quicksort code\n",
    "\n",
    "array = [1,2,3,0,17,19,3,5,9,8,4,7,11,10,15]\n",
    "\n",
    "def quicksort(array):\n",
    "    if len(array) < 2:\n",
    "        return array #base case: arrays with 0 or 1 element are already sorted \n",
    "    else:\n",
    "        pivot = array[0] #recursive case\n",
    "        less = [i for i in array[1:] if i <=pivot] #sub-array of all the elements less than the pivot\n",
    "        greater = [i for i in array[1:] if i > pivot] #sub-array of all the elements greater than the pivot\n",
    "\n",
    "        return quicksort(less) + [pivot] + quicksort(greater)\n",
    "    \n",
    "\n",
    "quicksort(array)   "
   ]
  },
  {
   "cell_type": "code",
   "execution_count": 20,
   "metadata": {},
   "outputs": [
    {
     "name": "stdout",
     "output_type": "stream",
     "text": [
      "4\n",
      "5\n",
      "6\n",
      "7\n",
      "8\n",
      "9\n",
      "10\n",
      "11\n",
      "12\n"
     ]
    }
   ],
   "source": [
    "#printing every item in a list\n",
    "\n",
    "list = [4,5,6,7,8,9,10,11,12]\n",
    "\n",
    "def print_items(list):\n",
    "    for item in list:\n",
    "        print(item)\n",
    "\n",
    "print_items(list)\n"
   ]
  },
  {
   "cell_type": "code",
   "execution_count": 21,
   "metadata": {},
   "outputs": [
    {
     "name": "stdout",
     "output_type": "stream",
     "text": [
      "{'apple': 0.67, 'milk': 1.49, 'avocado': 1.6}\n",
      "1.6\n"
     ]
    }
   ],
   "source": [
    "# hash table / dictionary\n",
    "book = dict()\n",
    "\n",
    "book[\"apple\"] = 0.67\n",
    "book[\"milk\"] = 1.49\n",
    "book[\"avocado\"] = 1.60\n",
    "print(book)\n",
    "\n",
    "#obtain the price of avocado\n",
    "print(book[\"avocado\"])"
   ]
  },
  {
   "cell_type": "code",
   "execution_count": 24,
   "metadata": {},
   "outputs": [
    {
     "name": "stdout",
     "output_type": "stream",
     "text": [
      "254792325745\n"
     ]
    }
   ],
   "source": [
    "#building a phone book\n",
    "phone_book = {}\n",
    "phone_book[\"Solo\"] = +254792325745\n",
    "phone_book[\"emergency\"] = 911\n",
    "\n",
    "print(phone_book[\"Solo\"])\n"
   ]
  },
  {
   "cell_type": "code",
   "execution_count": 28,
   "metadata": {},
   "outputs": [
    {
     "name": "stdout",
     "output_type": "stream",
     "text": [
      "let them vote!\n",
      "let them vote!\n",
      "Go get something else to do, you have voted!\n"
     ]
    }
   ],
   "source": [
    "#make hash to keep track of the people who have voted\n",
    "voted = {}\n",
    "\n",
    "def check_voter(name):\n",
    "    if voted.get(name):\n",
    "        print(\"Go get something else to do, you have voted!\")\n",
    "    else:\n",
    "        voted[name] = True\n",
    "        print(\"let them vote!\")\n",
    "#example\n",
    "check_voter(\"tom\")                    \n",
    "check_voter(\"mike\")\n",
    "check_voter(\"tom\")\n"
   ]
  },
  {
   "cell_type": "code",
   "execution_count": 30,
   "metadata": {},
   "outputs": [],
   "source": [
    "#checking if the page is stored in hash\n",
    "\n",
    "cache = {}\n",
    "\n",
    "def get_page(url):\n",
    "    if cache.get(url):\n",
    "        return cache(url) #returns cached data\n",
    "    else:\n",
    "        data = get_data_from_server(url)\n",
    "        cache[url] = data #saves this data in your cache first\n",
    "        return data\n",
    "    \n",
    "    \n"
   ]
  },
  {
   "cell_type": "code",
   "execution_count": 34,
   "metadata": {},
   "outputs": [],
   "source": [
    "graph = {}\n",
    "graph[\"you\"] = [\"alice\", \"bob\", \"claire\"]\n",
    "graph[\"bob\"] = [\"anuj\", \"peggy\"]\n",
    "graph[\"alice\"] = [\"peggy\"]\n",
    "graph[\"claire\"] = [\"thom\",\"jonny\"]\n",
    "graph[\"anuj\"] = []\n",
    "graph[\"peggy\"] = []\n",
    "graph[\"thom\"] = []\n",
    "graph[\"jonny\"] = []\n"
   ]
  },
  {
   "cell_type": "code",
   "execution_count": 60,
   "metadata": {},
   "outputs": [
    {
     "name": "stdout",
     "output_type": "stream",
     "text": [
      "thom is a mango seller!\n"
     ]
    },
    {
     "data": {
      "text/plain": [
       "True"
      ]
     },
     "execution_count": 60,
     "metadata": {},
     "output_type": "execute_result"
    }
   ],
   "source": [
    "#breadth-first search code\n",
    "graph = {\n",
    "    \"you\": [\"alice\", \"bob\", \"claire\"],\n",
    "    \"bob\": [\"anuj\", \"peggy\"],\n",
    "    \"alice\": [\"peggy\"],\n",
    "    \"claire\": [\"thom\", \"jonny\"],\n",
    "    \"anuj\": [],\n",
    "    \"peggy\": [],\n",
    "    \"thom\": [],\n",
    "    \"jonny\": []\n",
    "}\n",
    "\n",
    "def search(name):\n",
    "    search_queue = deque()\n",
    "    search_queue += graph[name]\n",
    "    searched = []\n",
    "\n",
    "    while search_queue:\n",
    "        person = search_queue.popleft()\n",
    "        if not person in searched:\n",
    "            if person_is_seller(person):\n",
    "                print(person + \" is a mango seller!\")\n",
    "                return True\n",
    "            else:\n",
    "                search_queue += graph[person]\n",
    "                searched.append(person)\n",
    "    return False\n",
    "\n",
    "search(\"you\")            \n",
    "\n"
   ]
  },
  {
   "cell_type": "code",
   "execution_count": 62,
   "metadata": {},
   "outputs": [
    {
     "name": "stdout",
     "output_type": "stream",
     "text": [
      "Vertex distance from source: \n",
      "(i) \t\t 0\n",
      "(i) \t\t -1\n",
      "(i) \t\t 2\n",
      "(i) \t\t -2\n",
      "(i) \t\t 1\n"
     ]
    }
   ],
   "source": [
    "#Bellman-Ford algorithm. unlike dijkstra's algorithm, it works with negative wieghts but not negative cycles\n",
    "#code for Bellman-Ford algorithm.\n",
    "\n",
    "class Graph:\n",
    "    def __init__(self, vertices):\n",
    "        self.V = vertices\n",
    "        self.graph = []\n",
    "\n",
    "    def add_edge(self, u, v, w):\n",
    "        self.graph.append([u, v, w])\n",
    "\n",
    "    def bellman_ford(self, src):\n",
    "        dist = [float(\"inf\")] * self.V\n",
    "        dist[src] = 0\n",
    "\n",
    "        for _ in range(self.V - 1):\n",
    "            for u, v, w in self.graph:\n",
    "                if dist[u] != float(\"inf\") and dist[u] + w < dist[v]:\n",
    "                    dist[v] = dist[u] + w\n",
    "\n",
    "        #check for negative cycles\n",
    "        for u, v, w in self.graph:\n",
    "            if dist[u] != float(\"inf\") and dist[u] + w < dist[v]:\n",
    "                print(\"Graph contains negative cycle\")\n",
    "                return\n",
    "        #print the shortest distances\n",
    "        print(\"Vertex distance from source: \")\n",
    "        for i in range(self.V):\n",
    "            print(f\"(i) \\t\\t {dist[i]}\")                                        \n",
    "\n",
    "#example\n",
    "g = Graph(5)\n",
    "g.add_edge(0, 1, -1)\n",
    "g.add_edge(0, 2, 4)\n",
    "g.add_edge(1, 2, 3)\n",
    "g.add_edge(1, 3, 2)\n",
    "g.add_edge(1, 4, 2)\n",
    "g.add_edge(3, 2, 5)\n",
    "g.add_edge(3, 1, 1)\n",
    "g.add_edge(4, 3, -3)        \n",
    "\n",
    "g.bellman_ford(0)"
   ]
  },
  {
   "cell_type": "code",
   "execution_count": 71,
   "metadata": {},
   "outputs": [
    {
     "name": "stdout",
     "output_type": "stream",
     "text": [
      "dict_keys(['a', 'b'])\n",
      "6\n",
      "2\n"
     ]
    }
   ],
   "source": [
    "#dijkstra's algorithm code\n",
    "graph = {}\n",
    "\n",
    "graph[\"you\"] = [\"alice\", \"bod\", \"claire\"]\n",
    "\n",
    "graph[\"start\"] = {}\n",
    "graph[\"start\"][\"a\"] = 6\n",
    "graph[\"start\"][\"b\"] = 2\n",
    "\n",
    "#getting the neighbours for start\n",
    "print(graph[\"start\"].keys())\n",
    "\n",
    "#printing the weight of the edges\n",
    "print(graph[\"start\"][\"a\"])\n",
    "print(graph[\"start\"][\"b\"])\n",
    "\n",
    "#adding the rest of the nodes and their neighbors to the graph\n",
    "graph[\"a\"] = {}\n",
    "graph[\"a\"][\"fin\"] = 1\n",
    "\n",
    "graph[\"b\"] = {}\n",
    "graph[\"b\"][\"a\"] = 3\n",
    "graph[\"b\"][\"b\"] = 5\n",
    "graph[\"fin\"] = {}  # the finish node does not have any neighbors\n",
    "\n",
    "#adding the code to make the costs table\n",
    "\n",
    "infinity = float(\"inf\")\n",
    "costs = {}\n",
    "costs[\"a\"] = 6\n",
    "costs[\"b\"] = 2\n",
    "costs[\"fin\"] = infinity\n",
    "\n",
    "#code to make the hash table for the parents\n",
    "parents = {}\n",
    "parents[\"a\"] = \"start\"\n",
    "parents[\"b\"] = \"start\"\n",
    "parents[\"fin\"] = None\n",
    "\n",
    "# array to keep track of all the nodes i have processed\n",
    "processed = []\n",
    "\n",
    "#complete algorithm code\n",
    "node = find_lowest_cost_node(costs) #find the lowest cost node that has not been processed yet\n",
    "while node is not None: # if all the nodes are processed, this while loop is done\n",
    "    cost = costs[node]\n",
    "    neighbors = graph[node]\n",
    "    for n in neighbors.keys(): # go through all the neighbors of this node\n",
    "        new_cost = cost + neighbors[n] #if its cheaper to get to this neighbor\n",
    "        if costs[n] > new_cost: # by going through the node..\n",
    "            costs[n] = new_cost # update the cost fpr this node\n",
    "            parents[n] = node #this node becomes the new parent for this neighbor\n",
    "    processed.append(node) # mark the node as processed\n",
    "    node = find_lowest_cost_node(costs) #find the next node to process and loop.     \n",
    "\n",
    "\n",
    "    # finding the lowest-cost node\n",
    "\n",
    "def find_lowest_cost_node(costs):\n",
    "    lowest_cost = float(\"inf\")\n",
    "    lowest_cost_node = None\n",
    "    for node in costs: # go through each node\n",
    "        cost = costs[node]\n",
    "        if cost < lowest_cost and node not in processed: # if the lowest cost so far and has not been processed yet\n",
    "            lowest_cost = cost # set it as the new lowest cost node\n",
    "            lowest_cost_node = node\n",
    "    return\n",
    "          \n"
   ]
  },
  {
   "cell_type": "code",
   "execution_count": 72,
   "metadata": {},
   "outputs": [],
   "source": [
    "#greedy algorithm code\n",
    "#list of the states i want to cover\n",
    "states_needed = set([\"mt\", \"wa\", \"or\", \"id\", \"nv\", \"ut\", \"ca\", \"az\"]) #pass an array in and it gets converted to a set\n",
    "stations = {}\n",
    "stations[\"kone\"] = set([\"id\", \"nv\", \"ut\"])\n",
    "stations[\"ktwo\"] = set([\"wa\", \"id\", \"mt\"])\n",
    "stations[\"kthree\"] = set([\"or\", \"nv\", \"ca\"])\n",
    "stations[\"kfour\"] = set([\"nv\", \"ut\"])\n",
    "stations[\"kfive\"] = set([\"ca\", \"az\"])\n",
    "\n",
    "#final set of stations to use\n",
    "final_stations = set()\n",
    "\n",
    "#station that covers the most uncovered states\n",
    "best_station = None\n",
    "states_covered = set()\n",
    "for station, states_for_station in stations.items():\n",
    "    covered = states_needed & states_for_station\n",
    "    if len(covered) > len(states_covered):\n",
    "        best_station = station\n",
    "        states_covered = covered\n",
    "        "
   ]
  },
  {
   "cell_type": "code",
   "execution_count": 76,
   "metadata": {},
   "outputs": [
    {
     "data": {
      "text/plain": [
       "{'beets', 'carrots'}"
      ]
     },
     "execution_count": 76,
     "metadata": {},
     "output_type": "execute_result"
    }
   ],
   "source": [
    "# set union, intersection and difference\n",
    "fruits = set([\"avocado\", \"tomato\", \"banana\"])\n",
    "vegitables = set([\"beets\", \"carrots\", \"tomato\"])\n",
    "fruits | vegitables # union of sets\n",
    "fruits & vegitables #intersetion of sets\n",
    "fruits - vegitables #set difference\n",
    "vegitables - fruits #set differnce"
   ]
  },
  {
   "cell_type": "code",
   "execution_count": 1,
   "metadata": {},
   "outputs": [
    {
     "name": "stdout",
     "output_type": "stream",
     "text": [
      "{'kthree', 'ktwo', 'kone', 'kfive'}\n"
     ]
    }
   ],
   "source": [
    "#full greedy code\n",
    "\n",
    "#list of the states i want to cover\n",
    "states_needed = set([\"mt\", \"wa\", \"or\", \"id\", \"nv\", \"ut\", \"ca\", \"az\"]) #pass an array in and it gets converted to a set\n",
    "stations = {}\n",
    "stations[\"kone\"] = set([\"id\", \"nv\", \"ut\"])\n",
    "stations[\"ktwo\"] = set([\"wa\", \"id\", \"mt\"])\n",
    "stations[\"kthree\"] = set([\"or\", \"nv\", \"ca\"])\n",
    "stations[\"kfour\"] = set([\"nv\", \"ut\"])\n",
    "stations[\"kfive\"] = set([\"ca\", \"az\"])\n",
    "\n",
    "final_stations = set()\n",
    "\n",
    "while states_needed:\n",
    "    best_station = None\n",
    "    states_covered = set()\n",
    "    for station, states in stations.items():\n",
    "        covered = states_needed & states\n",
    "        if len(covered) > len(states_covered):\n",
    "            best_station = station\n",
    "            states_covered = covered\n",
    "    states_needed -= states_covered\n",
    "    final_stations.add(best_station)\n",
    "\n",
    "print(final_stations)"
   ]
  },
  {
   "cell_type": "code",
   "execution_count": 5,
   "metadata": {},
   "outputs": [
    {
     "ename": "NameError",
     "evalue": "name 'i' is not defined",
     "output_type": "error",
     "traceback": [
      "\u001b[0;31m---------------------------------------------------------------------------\u001b[0m",
      "\u001b[0;31mNameError\u001b[0m                                 Traceback (most recent call last)",
      "Cell \u001b[0;32mIn[5], line 2\u001b[0m\n\u001b[1;32m      1\u001b[0m \u001b[38;5;66;03m#filling the grid with matching letters code\u001b[39;00m\n\u001b[0;32m----> 2\u001b[0m \u001b[38;5;28;01mif\u001b[39;00m word_a[\u001b[43mi\u001b[49m] \u001b[38;5;241m==\u001b[39m word_b[j]: \u001b[38;5;66;03m#the letters match\u001b[39;00m\n\u001b[1;32m      3\u001b[0m     cell[i][j] \u001b[38;5;241m=\u001b[39m cell[i\u001b[38;5;241m-\u001b[39m\u001b[38;5;241m1\u001b[39m][j\u001b[38;5;241m-\u001b[39m\u001b[38;5;241m1\u001b[39m] \u001b[38;5;241m+\u001b[39m \u001b[38;5;241m1\u001b[39m\n\u001b[1;32m      4\u001b[0m \u001b[38;5;28;01melse\u001b[39;00m: \u001b[38;5;66;03m# the letters dont match\u001b[39;00m\n",
      "\u001b[0;31mNameError\u001b[0m: name 'i' is not defined"
     ]
    }
   ],
   "source": [
    "#filling the grid with matching letters code\n",
    "if word_a[i] == word_b[j]: #the letters match\n",
    "    cell[i][j] = cell[i-1][j-1] + 1\n",
    "else: # the letters dont match\n",
    "    cell[i][j] = 0    \n",
    "    \n",
    "#alternatively\n",
    "if word_a[i] == word_b[j]: #the letters match\n",
    "    cell[i][j] = cell[i-1][j-1] + 1\n",
    "else:\n",
    "    cell[i][j] = max(cell[i-1][j, cell[i][j-1]])            "
   ]
  },
  {
   "cell_type": "code",
   "execution_count": 8,
   "metadata": {},
   "outputs": [
    {
     "name": "stdout",
     "output_type": "stream",
     "text": [
      "[0, 0, 0, 0, 0, 0]\n",
      "[0, 0, 0, 0, 0, 0]\n",
      "[0, 0, 1, 0, 0, 0]\n",
      "[0, 0, 0, 2, 0, 0]\n",
      "[0, 0, 0, 0, 3, 0]\n"
     ]
    },
    {
     "data": {
      "image/png": "[encoded data removed]",
      "text/plain": [
       "<Figure size 500x400 with 2 Axes>"
      ]
     },
     "metadata": {},
     "output_type": "display_data"
    }
   ],
   "source": [
    "# Draw and fill in the grid to calculate the longest common substring between blue and clues.\n",
    "word_a = \"blue\"\n",
    "word_b = \"clues\"\n",
    "\n",
    "#create a matrix with dimensions len(word_a) + len(word_b) +1\n",
    "rows = len(word_a) + 1\n",
    "cols = len(word_b) + 1\n",
    "cell = [[0]* cols for _ in range(rows)]\n",
    "\n",
    "#fill the matrix based on the rules\n",
    "for i in range(1, rows):\n",
    "    for j in range(1, cols):\n",
    "        if word_a[i-1] == word_b[j-1]:\n",
    "            cell[i][j] = cell[i-1][j-1] + 1\n",
    "        else:\n",
    "            cell[i][j] = 0\n",
    "\n",
    "#print the filled matrix\n",
    "for row in cell:\n",
    "    print(row)            \n",
    "\n",
    "import matplotlib.pyplot as plt\n",
    "import seaborn as sns    \n",
    "\n",
    "# Display the filled matrix using seaborn heatmap\n",
    "plt.figure(figsize=(len(word_b), len(word_a)))\n",
    "sns.heatmap(cell, annot=True, fmt='d', cmap='viridis', linewidths=.5, xticklabels=list(word_b), yticklabels=list(word_a))\n",
    "plt.title('Longest Common Substring Matrix')\n",
    "plt.show()\n"
   ]
  },
  {
   "cell_type": "code",
   "execution_count": null,
   "metadata": {},
   "outputs": [],
   "source": []
  }
 ],
 "metadata": {
  "kernelspec": {
   "display_name": "Python 3",
   "language": "python",
   "name": "python3"
  },
  "language_info": {
   "codemirror_mode": {
    "name": "ipython",
    "version": 3
   },
   "file_extension": ".py",
   "mimetype": "text/x-python",
   "name": "python",
   "nbconvert_exporter": "python",
   "pygments_lexer": "ipython3",
   "version": "3.11.7"
  }
 },
 "nbformat": 4,
 "nbformat_minor": 2
}
